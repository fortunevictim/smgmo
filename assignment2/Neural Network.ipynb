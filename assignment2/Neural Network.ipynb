{
 "cells": [
  {
   "cell_type": "markdown",
   "metadata": {},
   "source": [
    "# Задание 2.1 - Нейронные сети\n",
    "\n",
    "В этом задании вы реализуете и натренируете настоящую нейроную сеть своими руками!\n",
    "\n",
    "В некотором смысле это будет расширением прошлого задания - нам нужно просто составить несколько линейных классификаторов вместе!\n",
    "\n",
    "<img src=\"https://i.redd.it/n9fgba8b0qr01.png\" alt=\"Stack_more_layers\" width=\"400px\"/>"
   ]
  },
  {
   "cell_type": "code",
   "execution_count": 43,
   "metadata": {},
   "outputs": [
    {
     "name": "stdout",
     "output_type": "stream",
     "text": [
      "The autoreload extension is already loaded. To reload it, use:\n",
      "  %reload_ext autoreload\n"
     ]
    },
    {
     "name": "stderr",
     "output_type": "stream",
     "text": [
      "[autoreload of layers failed: Traceback (most recent call last):\n",
      "  File \"d:\\projects\\2022\\dlcourse_ai-master\\assignments\\assignment2\\venv\\lib\\site-packages\\IPython\\extensions\\autoreload.py\", line 257, in check\n",
      "    superreload(m, reload, self.old_objects)\n",
      "  File \"d:\\projects\\2022\\dlcourse_ai-master\\assignments\\assignment2\\venv\\lib\\site-packages\\IPython\\extensions\\autoreload.py\", line 455, in superreload\n",
      "    module = reload(module)\n",
      "  File \"C:\\Users\\Alexey\\AppData\\Local\\Programs\\Python\\Python39\\lib\\importlib\\__init__.py\", line 169, in reload\n",
      "    _bootstrap._exec(spec, module)\n",
      "  File \"<frozen importlib._bootstrap>\", line 613, in _exec\n",
      "  File \"<frozen importlib._bootstrap_external>\", line 850, in exec_module\n",
      "  File \"<frozen importlib._bootstrap>\", line 228, in _call_with_frames_removed\n",
      "  File \"D:\\Projects\\2022\\dlcourse_ai-master\\assignments\\assignment2\\layers.py\", line 3, in <module>\n",
      "    from assignments_in_progress.assignment1.linear_classifer import softmax, cross_entropy_loss\n",
      "ModuleNotFoundError: No module named 'assignments_in_progress'\n",
      "]\n",
      "[autoreload of model failed: Traceback (most recent call last):\n",
      "  File \"d:\\projects\\2022\\dlcourse_ai-master\\assignments\\assignment2\\venv\\lib\\site-packages\\IPython\\extensions\\autoreload.py\", line 257, in check\n",
      "    superreload(m, reload, self.old_objects)\n",
      "  File \"d:\\projects\\2022\\dlcourse_ai-master\\assignments\\assignment2\\venv\\lib\\site-packages\\IPython\\extensions\\autoreload.py\", line 455, in superreload\n",
      "    module = reload(module)\n",
      "  File \"C:\\Users\\Alexey\\AppData\\Local\\Programs\\Python\\Python39\\lib\\importlib\\__init__.py\", line 169, in reload\n",
      "    _bootstrap._exec(spec, module)\n",
      "  File \"<frozen importlib._bootstrap>\", line 613, in _exec\n",
      "  File \"<frozen importlib._bootstrap_external>\", line 850, in exec_module\n",
      "  File \"<frozen importlib._bootstrap>\", line 228, in _call_with_frames_removed\n",
      "  File \"D:\\Projects\\2022\\dlcourse_ai-master\\assignments\\assignment2\\model.py\", line 4, in <module>\n",
      "    from assignments_in_progress.assignment1.linear_classifer import softmax\n",
      "ModuleNotFoundError: No module named 'assignments_in_progress'\n",
      "]\n"
     ]
    }
   ],
   "source": [
    "import numpy as np\n",
    "import matplotlib.pyplot as plt\n",
    "import warnings\n",
    "warnings.filterwarnings(\"ignore\", category=DeprecationWarning)\n",
    "\n",
    "%matplotlib inline\n",
    "\n",
    "%load_ext autoreload\n",
    "%autoreload 2"
   ]
  },
  {
   "cell_type": "code",
   "execution_count": 44,
   "outputs": [],
   "source": [
    "import sys\n",
    "sys.path.append('C:/Users/N1keFan/noteboook/dlcourse_ai')\n",
    "PATH_TO_DATA = 'D:/Projects/2022/dlcourse_ai-master/assignments/assignment2/data'"
   ],
   "metadata": {
    "collapsed": false,
    "pycharm": {
     "name": "#%%\n"
    }
   }
  },
  {
   "cell_type": "code",
   "execution_count": 45,
   "outputs": [],
   "source": [
    "from dataset import load_svhn, random_split_train_val\n",
    "from gradient_check import check_layer_gradient, check_layer_param_gradient, check_model_gradient\n",
    "from layers import FullyConnectedLayer, ReLULayer\n",
    "from model import TwoLayerNet\n",
    "from trainer import Trainer, Dataset\n",
    "from optim import SGD, MomentumSGD\n",
    "from metrics import multiclass_accuracy"
   ],
   "metadata": {
    "collapsed": false,
    "pycharm": {
     "name": "#%%\n"
    }
   }
  },
  {
   "cell_type": "markdown",
   "metadata": {},
   "source": [
    "# Загружаем данные\n",
    "\n",
    "И разделяем их на training и validation."
   ]
  },
  {
   "cell_type": "code",
   "execution_count": 46,
   "metadata": {},
   "outputs": [],
   "source": [
    "def prepare_for_neural_network(train_X, test_X):\n",
    "    train_flat = train_X.reshape(train_X.shape[0], -1).astype(np.float) / 255.0\n",
    "    test_flat = test_X.reshape(test_X.shape[0], -1).astype(np.float) / 255.0\n",
    "    \n",
    "    # Subtract mean\n",
    "    mean_image = np.mean(train_flat, axis = 0)\n",
    "    train_flat -= mean_image\n",
    "    test_flat -= mean_image\n",
    "    \n",
    "    return train_flat, test_flat\n",
    "    \n",
    "train_X, train_y, test_X, test_y = load_svhn(PATH_TO_DATA, max_train=10000, max_test=1000)\n",
    "train_X, test_X = prepare_for_neural_network(train_X, test_X)\n",
    "# Split train into train and val\n",
    "train_X, train_y, val_X, val_y = random_split_train_val(train_X, train_y, num_val = 1000)"
   ]
  },
  {
   "cell_type": "markdown",
   "metadata": {},
   "source": [
    "# Как всегда, начинаем с кирпичиков\n",
    "\n",
    "Мы будем реализовывать необходимые нам слои по очереди. Каждый слой должен реализовать:\n",
    "- прямой проход (forward pass), который генерирует выход слоя по входу и запоминает необходимые данные\n",
    "- обратный проход (backward pass), который получает градиент по выходу слоя и вычисляет градиент по входу и по параметрам\n",
    "\n",
    "Начнем с ReLU, у которого параметров нет."
   ]
  },
  {
   "cell_type": "code",
   "execution_count": 47,
   "metadata": {
    "scrolled": false
   },
   "outputs": [
    {
     "name": "stdout",
     "output_type": "stream",
     "text": [
      "Gradient check passed!\n"
     ]
    }
   ],
   "source": [
    "# TODO: Implement ReLULayer layer in layers.py\n",
    "# Note: you'll need to copy implementation of the gradient_check function from the previous assignment\n",
    "\n",
    "X = np.array([[1,-2,3],\n",
    "              [-1, 2, 0.1]\n",
    "              ])\n",
    "\n",
    "assert check_layer_gradient(ReLULayer(), X)"
   ]
  },
  {
   "cell_type": "markdown",
   "metadata": {},
   "source": [
    "А теперь реализуем полносвязный слой (fully connected layer), у которого будет два массива параметров: W (weights) и B (bias).\n",
    "\n",
    "Все параметры наши слои будут использовать для параметров специальный класс `Param`, в котором будут храниться значения параметров и градиенты этих параметров, вычисляемые во время обратного прохода.\n",
    "\n",
    "Это даст возможность аккумулировать (суммировать) градиенты из разных частей функции потерь, например, из cross-entropy loss и regularization loss."
   ]
  },
  {
   "cell_type": "code",
   "execution_count": 48,
   "metadata": {},
   "outputs": [
    {
     "name": "stdout",
     "output_type": "stream",
     "text": [
      "Gradient check passed!\n",
      "Gradient check passed!\n",
      "Gradient check passed!\n"
     ]
    }
   ],
   "source": [
    "# TODO: Implement FullyConnected layer forward and backward methods\n",
    "assert check_layer_gradient(FullyConnectedLayer(3, 4), X)\n",
    "# TODO: Implement storing gradients for W and B\n",
    "assert check_layer_param_gradient(FullyConnectedLayer(3, 4), X, 'W')\n",
    "assert check_layer_param_gradient(FullyConnectedLayer(3, 4), X, 'B')"
   ]
  },
  {
   "cell_type": "markdown",
   "metadata": {},
   "source": [
    "## Создаем нейронную сеть\n",
    "\n",
    "Теперь мы реализуем простейшую нейронную сеть с двумя полносвязным слоями и нелинейностью ReLU. Реализуйте функцию `compute_loss_and_gradients`, она должна запустить прямой и обратный проход через оба слоя для вычисления градиентов.\n",
    "\n",
    "Не забудьте реализовать очистку градиентов в начале функции."
   ]
  },
  {
   "cell_type": "code",
   "execution_count": 49,
   "metadata": {},
   "outputs": [
    {
     "name": "stdout",
     "output_type": "stream",
     "text": [
      "Checking gradient for 0_W\n",
      "Gradient check passed!\n",
      "Checking gradient for 0_B\n",
      "Gradient check passed!\n",
      "Checking gradient for 2_W\n",
      "Gradient check passed!\n",
      "Checking gradient for 2_B\n",
      "Gradient check passed!\n"
     ]
    },
    {
     "data": {
      "text/plain": "True"
     },
     "execution_count": 49,
     "metadata": {},
     "output_type": "execute_result"
    }
   ],
   "source": [
    "# TODO: In model.py, implement compute_loss_and_gradients function\n",
    "model = TwoLayerNet(n_input = train_X.shape[1], n_output = 10, hidden_layer_size = 3, reg = 0)\n",
    "loss = model.compute_loss_and_gradients(train_X[:2], train_y[:2])\n",
    "\n",
    "# TODO Now implement backward pass and aggregate all of the params\n",
    "check_model_gradient(model, train_X[:2], train_y[:2])"
   ]
  },
  {
   "cell_type": "markdown",
   "metadata": {},
   "source": [
    "Теперь добавьте к модели регуляризацию - она должна прибавляться к loss и делать свой вклад в градиенты."
   ]
  },
  {
   "cell_type": "code",
   "execution_count": 50,
   "metadata": {},
   "outputs": [
    {
     "name": "stdout",
     "output_type": "stream",
     "text": [
      "Checking gradient for 0_W\n",
      "Gradient check passed!\n",
      "Checking gradient for 0_B\n",
      "Gradient check passed!\n",
      "Checking gradient for 2_W\n",
      "Gradient check passed!\n",
      "Checking gradient for 2_B\n",
      "Gradient check passed!\n"
     ]
    },
    {
     "data": {
      "text/plain": "True"
     },
     "execution_count": 50,
     "metadata": {},
     "output_type": "execute_result"
    }
   ],
   "source": [
    "# TODO Now implement l2 regularization in the forward and backward pass\n",
    "model_with_reg = TwoLayerNet(n_input = train_X.shape[1], n_output = 10, hidden_layer_size = 3, reg = 1e1)\n",
    "loss_with_reg = model_with_reg.compute_loss_and_gradients(train_X[:2], train_y[:2])\n",
    "assert loss_with_reg > loss and not np.isclose(loss_with_reg, loss), \\\n",
    "    \"Loss with regularization (%2.4f) should be higher than without it (%2.4f)!\" % (loss, loss_with_reg)\n",
    "\n",
    "check_model_gradient(model_with_reg, train_X[:2], train_y[:2])"
   ]
  },
  {
   "cell_type": "markdown",
   "metadata": {},
   "source": [
    "Также реализуем функцию предсказания (вычисления значения) модели на новых данных.\n",
    "\n",
    "Какое значение точности мы ожидаем увидеть до начала тренировки?"
   ]
  },
  {
   "cell_type": "code",
   "execution_count": 51,
   "metadata": {},
   "outputs": [
    {
     "data": {
      "text/plain": "0.1"
     },
     "execution_count": 51,
     "metadata": {},
     "output_type": "execute_result"
    }
   ],
   "source": [
    "# Finally, implement predict function!\n",
    "\n",
    "# TODO: Implement predict function\n",
    "# What would be the value we expect?\n",
    "multiclass_accuracy(model_with_reg.predict(train_X[:30]), train_y[:30]) "
   ]
  },
  {
   "cell_type": "markdown",
   "metadata": {},
   "source": [
    "# Допишем код для процесса тренировки\n",
    "\n",
    "Если все реализовано корректно, значение функции ошибки должно уменьшаться с каждой эпохой, пусть и медленно. Не беспокойтесь пока про validation accuracy."
   ]
  },
  {
   "cell_type": "code",
   "execution_count": 52,
   "metadata": {},
   "outputs": [
    {
     "name": "stdout",
     "output_type": "stream",
     "text": [
      "Epoch: 0 Loss: 2.302029, Train accuracy: 0.196667, val accuracy: 0.206000\n",
      "Epoch: 1 Loss: 2.301685, Train accuracy: 0.196667, val accuracy: 0.206000\n",
      "Epoch: 2 Loss: 2.301851, Train accuracy: 0.148222, val accuracy: 0.140000\n",
      "Epoch: 3 Loss: 2.302623, Train accuracy: 0.196667, val accuracy: 0.206000\n",
      "Epoch: 4 Loss: 2.302031, Train accuracy: 0.196667, val accuracy: 0.206000\n",
      "Epoch: 5 Loss: 2.301124, Train accuracy: 0.196667, val accuracy: 0.206000\n",
      "Epoch: 6 Loss: 2.302831, Train accuracy: 0.196667, val accuracy: 0.206000\n",
      "Epoch: 7 Loss: 2.301638, Train accuracy: 0.196667, val accuracy: 0.206000\n",
      "Epoch: 8 Loss: 2.302170, Train accuracy: 0.196667, val accuracy: 0.206000\n",
      "Epoch: 9 Loss: 2.302117, Train accuracy: 0.196667, val accuracy: 0.206000\n",
      "Epoch: 10 Loss: 2.302455, Train accuracy: 0.196667, val accuracy: 0.206000\n",
      "Epoch: 11 Loss: 2.302807, Train accuracy: 0.196667, val accuracy: 0.206000\n",
      "Epoch: 12 Loss: 2.302832, Train accuracy: 0.196667, val accuracy: 0.206000\n",
      "Epoch: 13 Loss: 2.302390, Train accuracy: 0.196667, val accuracy: 0.206000\n",
      "Epoch: 14 Loss: 2.303278, Train accuracy: 0.196667, val accuracy: 0.206000\n",
      "Epoch: 15 Loss: 2.301772, Train accuracy: 0.196667, val accuracy: 0.206000\n",
      "Epoch: 16 Loss: 2.302333, Train accuracy: 0.196667, val accuracy: 0.206000\n",
      "Epoch: 17 Loss: 2.302433, Train accuracy: 0.148222, val accuracy: 0.140000\n",
      "Epoch: 18 Loss: 2.301941, Train accuracy: 0.196667, val accuracy: 0.206000\n",
      "Epoch: 19 Loss: 2.302173, Train accuracy: 0.196667, val accuracy: 0.206000\n"
     ]
    }
   ],
   "source": [
    "model = TwoLayerNet(n_input = train_X.shape[1], n_output = 10, hidden_layer_size = 100, reg = 1e1)\n",
    "dataset = Dataset(train_X, train_y, val_X, val_y)\n",
    "trainer = Trainer(model, dataset, SGD(), learning_rate=1e-2)\n",
    "\n",
    "# TODO Implement missing pieces in Trainer.fit function\n",
    "# You should expect loss to go down every epoch, even if it's slow\n",
    "loss_history, train_history, val_history = trainer.fit()"
   ]
  },
  {
   "cell_type": "code",
   "execution_count": 53,
   "metadata": {},
   "outputs": [
    {
     "data": {
      "text/plain": "[<matplotlib.lines.Line2D at 0x1d70000e3d0>]"
     },
     "execution_count": 53,
     "metadata": {},
     "output_type": "execute_result"
    },
    {
     "data": {
      "text/plain": "<Figure size 432x288 with 1 Axes>",
      "image/png": "[encoded data removed]"
     },
     "metadata": {
      "needs_background": "light"
     },
     "output_type": "display_data"
    }
   ],
   "source": [
    "plt.plot(train_history)\n",
    "plt.plot(val_history)"
   ]
  },
  {
   "cell_type": "markdown",
   "metadata": {},
   "source": [
    "# Улучшаем процесс тренировки\n",
    "\n",
    "Мы реализуем несколько ключевых оптимизаций, необходимых для тренировки современных нейросетей."
   ]
  },
  {
   "cell_type": "markdown",
   "metadata": {},
   "source": [
    "## Уменьшение скорости обучения (learning rate decay)\n",
    "\n",
    "Одна из необходимых оптимизаций во время тренировки нейронных сетей - постепенное уменьшение скорости обучения по мере тренировки.\n",
    "\n",
    "Один из стандартных методов - уменьшение скорости обучения (learning rate) каждые N эпох на коэффициент d (часто называемый decay). Значения N и d, как всегда, являются гиперпараметрами и должны подбираться на основе эффективности на проверочных данных (validation data). \n",
    "\n",
    "В нашем случае N будет равным 1."
   ]
  },
  {
   "cell_type": "code",
   "execution_count": 54,
   "metadata": {},
   "outputs": [
    {
     "name": "stdout",
     "output_type": "stream",
     "text": [
      "Epoch: 0 Loss: 2.275985, Train accuracy: 0.196667, val accuracy: 0.206000\n",
      "Epoch: 1 Loss: 2.347515, Train accuracy: 0.196667, val accuracy: 0.206000\n",
      "Epoch: 2 Loss: 2.264348, Train accuracy: 0.196667, val accuracy: 0.206000\n",
      "Epoch: 3 Loss: 2.287890, Train accuracy: 0.196667, val accuracy: 0.206000\n",
      "Epoch: 4 Loss: 2.253264, Train accuracy: 0.196667, val accuracy: 0.206000\n",
      "Epoch: 5 Loss: 2.265011, Train accuracy: 0.196667, val accuracy: 0.206000\n",
      "Epoch: 6 Loss: 2.212698, Train accuracy: 0.196667, val accuracy: 0.206000\n",
      "Epoch: 7 Loss: 2.320777, Train accuracy: 0.196667, val accuracy: 0.206000\n",
      "Epoch: 8 Loss: 2.302624, Train accuracy: 0.196667, val accuracy: 0.206000\n",
      "Epoch: 9 Loss: 2.311032, Train accuracy: 0.196667, val accuracy: 0.206000\n",
      "Epoch: 10 Loss: 2.234316, Train accuracy: 0.196667, val accuracy: 0.206000\n",
      "Epoch: 11 Loss: 2.283390, Train accuracy: 0.196667, val accuracy: 0.206000\n",
      "Epoch: 12 Loss: 2.353994, Train accuracy: 0.196667, val accuracy: 0.206000\n",
      "Epoch: 13 Loss: 2.217454, Train accuracy: 0.196667, val accuracy: 0.206000\n",
      "Epoch: 14 Loss: 2.378711, Train accuracy: 0.196667, val accuracy: 0.206000\n",
      "Epoch: 15 Loss: 2.256101, Train accuracy: 0.196667, val accuracy: 0.206000\n",
      "Epoch: 16 Loss: 2.309860, Train accuracy: 0.196667, val accuracy: 0.206000\n",
      "Epoch: 17 Loss: 2.264767, Train accuracy: 0.196667, val accuracy: 0.206000\n",
      "Epoch: 18 Loss: 2.276485, Train accuracy: 0.196667, val accuracy: 0.206000\n",
      "Epoch: 19 Loss: 2.274562, Train accuracy: 0.196667, val accuracy: 0.206000\n"
     ]
    }
   ],
   "source": [
    "# TODO Implement learning rate decay inside Trainer.fit method\n",
    "# Decay should happen once per epoch\n",
    "\n",
    "model = TwoLayerNet(n_input = train_X.shape[1], n_output = 10, hidden_layer_size = 100, reg = 1e-1)\n",
    "dataset = Dataset(train_X, train_y, val_X, val_y)\n",
    "trainer = Trainer(model, dataset, SGD(), learning_rate_decay=0.99)\n",
    "\n",
    "initial_learning_rate = trainer.learning_rate\n",
    "loss_history, train_history, val_history = trainer.fit()\n",
    "\n",
    "assert trainer.learning_rate < initial_learning_rate, \"Learning rate should've been reduced\"\n",
    "assert trainer.learning_rate > 0.5*initial_learning_rate, \"Learning rate shouldn'tve been reduced that much!\""
   ]
  },
  {
   "cell_type": "markdown",
   "metadata": {},
   "source": [
    "# Накопление импульса (Momentum SGD)\n",
    "\n",
    "Другой большой класс оптимизаций - использование более эффективных методов градиентного спуска. Мы реализуем один из них - накопление импульса (Momentum SGD).\n",
    "\n",
    "Этот метод хранит скорость движения, использует градиент для ее изменения на каждом шаге, и изменяет веса пропорционально значению скорости.\n",
    "(Физическая аналогия: Вместо скорости градиенты теперь будут задавать ускорение, но будет присутствовать сила трения.)\n",
    "\n",
    "```\n",
    "velocity = momentum * velocity - learning_rate * gradient \n",
    "w = w + velocity\n",
    "```\n",
    "\n",
    "`momentum` здесь коэффициент затухания, который тоже является гиперпараметром (к счастью, для него часто есть хорошее значение по умолчанию, типичный диапазон -- 0.8-0.99).\n",
    "\n",
    "Несколько полезных ссылок, где метод разбирается более подробно:  \n",
    "http://cs231n.github.io/neural-networks-3/#sgd  \n",
    "https://distill.pub/2017/momentum/"
   ]
  },
  {
   "cell_type": "code",
   "execution_count": 55,
   "metadata": {},
   "outputs": [
    {
     "name": "stdout",
     "output_type": "stream",
     "text": [
      "Epoch: 0 Loss: 2.322051, Train accuracy: 0.196667, val accuracy: 0.206000\n",
      "Epoch: 1 Loss: 2.308033, Train accuracy: 0.196667, val accuracy: 0.206000\n",
      "Epoch: 2 Loss: 2.317549, Train accuracy: 0.196667, val accuracy: 0.206000\n",
      "Epoch: 3 Loss: 2.262630, Train accuracy: 0.196667, val accuracy: 0.206000\n",
      "Epoch: 4 Loss: 2.270323, Train accuracy: 0.196667, val accuracy: 0.206000\n",
      "Epoch: 5 Loss: 2.308261, Train accuracy: 0.196667, val accuracy: 0.206000\n",
      "Epoch: 6 Loss: 2.264990, Train accuracy: 0.196667, val accuracy: 0.206000\n",
      "Epoch: 7 Loss: 2.278636, Train accuracy: 0.196667, val accuracy: 0.206000\n",
      "Epoch: 8 Loss: 2.267083, Train accuracy: 0.196667, val accuracy: 0.206000\n",
      "Epoch: 9 Loss: 2.279901, Train accuracy: 0.196667, val accuracy: 0.206000\n",
      "Epoch: 10 Loss: 2.276510, Train accuracy: 0.196667, val accuracy: 0.206000\n",
      "Epoch: 11 Loss: 2.314133, Train accuracy: 0.196667, val accuracy: 0.206000\n",
      "Epoch: 12 Loss: 2.256404, Train accuracy: 0.196667, val accuracy: 0.206000\n",
      "Epoch: 13 Loss: 2.295822, Train accuracy: 0.196667, val accuracy: 0.206000\n",
      "Epoch: 14 Loss: 2.290051, Train accuracy: 0.196667, val accuracy: 0.206000\n",
      "Epoch: 15 Loss: 2.278750, Train accuracy: 0.196667, val accuracy: 0.206000\n",
      "Epoch: 16 Loss: 2.280567, Train accuracy: 0.196667, val accuracy: 0.206000\n",
      "Epoch: 17 Loss: 2.255044, Train accuracy: 0.196667, val accuracy: 0.206000\n",
      "Epoch: 18 Loss: 2.240982, Train accuracy: 0.196667, val accuracy: 0.206000\n",
      "Epoch: 19 Loss: 2.315651, Train accuracy: 0.196667, val accuracy: 0.206000\n"
     ]
    }
   ],
   "source": [
    "# TODO: Implement MomentumSGD.update function in optim.py\n",
    "\n",
    "model = TwoLayerNet(n_input = train_X.shape[1], n_output = 10, hidden_layer_size = 100, reg = 1e-1)\n",
    "dataset = Dataset(train_X, train_y, val_X, val_y)\n",
    "trainer = Trainer(model, dataset, MomentumSGD(), learning_rate=1e-4, learning_rate_decay=0.99)\n",
    "\n",
    "# You should see even better results than before!\n",
    "loss_history, train_history, val_history = trainer.fit()"
   ]
  },
  {
   "cell_type": "code",
   "execution_count": 56,
   "outputs": [
    {
     "data": {
      "text/plain": "[<matplotlib.lines.Line2D at 0x1d70006f730>]"
     },
     "execution_count": 56,
     "metadata": {},
     "output_type": "execute_result"
    },
    {
     "data": {
      "text/plain": "<Figure size 432x288 with 1 Axes>",
      "image/png": "[encoded data removed]"
     },
     "metadata": {
      "needs_background": "light"
     },
     "output_type": "display_data"
    }
   ],
   "source": [
    "plt.plot(train_history)\n",
    "plt.plot(val_history)"
   ],
   "metadata": {
    "collapsed": false,
    "pycharm": {
     "name": "#%%\n"
    }
   }
  },
  {
   "cell_type": "markdown",
   "metadata": {},
   "source": [
    "# Ну что, давайте уже тренировать сеть!"
   ]
  },
  {
   "cell_type": "markdown",
   "metadata": {},
   "source": [
    "## Последний тест - переобучимся (overfit) на маленьком наборе данных\n",
    "\n",
    "Хороший способ проверить, все ли реализовано корректно - переобучить сеть на маленьком наборе данных.  \n",
    "Наша модель обладает достаточной мощностью, чтобы приблизить маленький набор данных идеально, поэтому мы ожидаем, что на нем мы быстро дойдем до 100% точности на тренировочном наборе. \n",
    "\n",
    "Если этого не происходит, то где-то была допущена ошибка!"
   ]
  },
  {
   "cell_type": "code",
   "execution_count": 57,
   "metadata": {},
   "outputs": [
    {
     "name": "stdout",
     "output_type": "stream",
     "text": [
      "Epoch: 0 Loss: 2.351801, Train accuracy: 0.200000, val accuracy: 0.133333\n",
      "Epoch: 20 Loss: 2.022291, Train accuracy: 0.400000, val accuracy: 0.000000\n",
      "Epoch: 40 Loss: 2.474042, Train accuracy: 0.666667, val accuracy: 0.066667\n",
      "Epoch: 60 Loss: 2.022564, Train accuracy: 0.733333, val accuracy: 0.066667\n",
      "Epoch: 80 Loss: 1.602167, Train accuracy: 0.866667, val accuracy: 0.066667\n",
      "Epoch: 100 Loss: 1.887250, Train accuracy: 0.933333, val accuracy: 0.066667\n",
      "Epoch: 120 Loss: 1.239065, Train accuracy: 0.933333, val accuracy: 0.000000\n",
      "Epoch: 140 Loss: 1.445285, Train accuracy: 1.000000, val accuracy: 0.000000\n"
     ]
    }
   ],
   "source": [
    "data_size = 15\n",
    "model = TwoLayerNet(n_input = train_X.shape[1], n_output = 10, hidden_layer_size = 100, reg = 1e-1)\n",
    "dataset = Dataset(train_X[:data_size], train_y[:data_size], val_X[:data_size], val_y[:data_size])\n",
    "trainer = Trainer(model, dataset, SGD(), learning_rate=1e-1, num_epochs=150, batch_size=5)\n",
    "\n",
    "# You should expect this to reach 1.0 training accuracy \n",
    "loss_history, train_history, val_history = trainer.fit()"
   ]
  },
  {
   "cell_type": "markdown",
   "metadata": {},
   "source": [
    "Теперь найдем гипепараметры, для которых этот процесс сходится быстрее.\n",
    "Если все реализовано корректно, то существуют параметры, при которых процесс сходится в **20** эпох или еще быстрее.\n",
    "Найдите их!"
   ]
  },
  {
   "cell_type": "code",
   "execution_count": 58,
   "metadata": {},
   "outputs": [
    {
     "name": "stdout",
     "output_type": "stream",
     "text": [
      "Epoch: 0 Loss: 2.304119, Train accuracy: 0.200000, val accuracy: 0.133333\n",
      "Epoch: 1 Loss: 2.281649, Train accuracy: 0.200000, val accuracy: 0.133333\n",
      "Epoch: 2 Loss: 2.254767, Train accuracy: 0.200000, val accuracy: 0.133333\n",
      "Epoch: 3 Loss: 2.223267, Train accuracy: 0.266667, val accuracy: 0.000000\n",
      "Epoch: 4 Loss: 2.161378, Train accuracy: 0.400000, val accuracy: 0.000000\n",
      "Epoch: 5 Loss: 1.978694, Train accuracy: 0.400000, val accuracy: 0.000000\n",
      "Epoch: 6 Loss: 1.740139, Train accuracy: 0.333333, val accuracy: 0.066667\n",
      "Epoch: 7 Loss: 1.706577, Train accuracy: 0.333333, val accuracy: 0.133333\n",
      "Epoch: 8 Loss: 1.691457, Train accuracy: 0.400000, val accuracy: 0.066667\n",
      "Epoch: 9 Loss: 1.619932, Train accuracy: 0.466667, val accuracy: 0.066667\n",
      "Epoch: 10 Loss: 1.368164, Train accuracy: 0.466667, val accuracy: 0.000000\n",
      "Epoch: 11 Loss: 1.250269, Train accuracy: 0.600000, val accuracy: 0.133333\n",
      "Epoch: 12 Loss: 1.231682, Train accuracy: 0.466667, val accuracy: 0.000000\n",
      "Epoch: 13 Loss: 1.494643, Train accuracy: 0.600000, val accuracy: 0.066667\n",
      "Epoch: 14 Loss: 1.118600, Train accuracy: 0.733333, val accuracy: 0.000000\n",
      "Epoch: 15 Loss: 0.907794, Train accuracy: 0.733333, val accuracy: 0.066667\n",
      "Epoch: 16 Loss: 0.741900, Train accuracy: 0.733333, val accuracy: 0.000000\n",
      "Epoch: 17 Loss: 0.617766, Train accuracy: 0.800000, val accuracy: 0.000000\n",
      "Epoch: 18 Loss: 0.520187, Train accuracy: 0.933333, val accuracy: 0.000000\n",
      "Epoch: 19 Loss: 0.463775, Train accuracy: 1.000000, val accuracy: 0.000000\n"
     ]
    }
   ],
   "source": [
    "# Now, tweak some hyper parameters and make it train to 1.0 accuracy in 20 epochs or less\n",
    "\n",
    "model = TwoLayerNet(n_input = train_X.shape[1], n_output = 10, hidden_layer_size = 100, reg = 5e-3)\n",
    "dataset = Dataset(train_X[:data_size], train_y[:data_size], val_X[:data_size], val_y[:data_size])\n",
    "# TODO: Change any hyperparamers or optimizators to reach training accuracy in 20 epochs\n",
    "trainer = Trainer(model, dataset, MomentumSGD(momentum=0.3), learning_rate=6e-1, num_epochs=20, batch_size=100)\n",
    "\n",
    "loss_history, train_history, val_history = trainer.fit()"
   ]
  },
  {
   "cell_type": "markdown",
   "metadata": {},
   "source": [
    "# Итак, основное мероприятие!\n",
    "\n",
    "Натренируйте лучшую нейросеть! Можно добавлять и изменять параметры, менять количество нейронов в слоях сети и как угодно экспериментировать. \n",
    "\n",
    "Добейтесь точности лучше **60%** на validation set."
   ]
  },
  {
   "cell_type": "code",
   "execution_count": 59,
   "metadata": {
    "scrolled": true
   },
   "outputs": [
    {
     "name": "stdout",
     "output_type": "stream",
     "text": [
      "\n",
      "Cycle 1...\n",
      "Epoch: 0 Loss: 2.292673, Train accuracy: 0.196667, val accuracy: 0.206000\n",
      "Epoch: 1 Loss: 2.218334, Train accuracy: 0.217222, val accuracy: 0.217000\n",
      "Epoch: 2 Loss: 2.073955, Train accuracy: 0.269556, val accuracy: 0.272000\n",
      "Epoch: 3 Loss: 2.316178, Train accuracy: 0.329778, val accuracy: 0.334000\n",
      "Epoch: 4 Loss: 2.039900, Train accuracy: 0.371667, val accuracy: 0.379000\n",
      "Epoch: 5 Loss: 1.750894, Train accuracy: 0.401556, val accuracy: 0.397000\n",
      "Epoch: 6 Loss: 1.913793, Train accuracy: 0.438222, val accuracy: 0.426000\n",
      "Epoch: 7 Loss: 1.889167, Train accuracy: 0.464222, val accuracy: 0.468000\n",
      "Epoch: 8 Loss: 1.785728, Train accuracy: 0.499333, val accuracy: 0.509000\n",
      "Epoch: 9 Loss: 1.652614, Train accuracy: 0.528000, val accuracy: 0.536000\n",
      "\n",
      "Cycle 2...\n",
      "Epoch: 0 Loss: 2.284719, Train accuracy: 0.196667, val accuracy: 0.206000\n",
      "Epoch: 1 Loss: 2.270807, Train accuracy: 0.196667, val accuracy: 0.206000\n",
      "Epoch: 2 Loss: 2.249561, Train accuracy: 0.196667, val accuracy: 0.206000\n",
      "Epoch: 3 Loss: 2.190694, Train accuracy: 0.196667, val accuracy: 0.206000\n",
      "Epoch: 4 Loss: 2.218720, Train accuracy: 0.196667, val accuracy: 0.206000\n",
      "Epoch: 5 Loss: 2.190403, Train accuracy: 0.196667, val accuracy: 0.206000\n",
      "Epoch: 6 Loss: 2.243287, Train accuracy: 0.196667, val accuracy: 0.206000\n",
      "Epoch: 7 Loss: 2.264236, Train accuracy: 0.196667, val accuracy: 0.206000\n",
      "Epoch: 8 Loss: 2.261654, Train accuracy: 0.196667, val accuracy: 0.206000\n",
      "Epoch: 9 Loss: 2.272158, Train accuracy: 0.196667, val accuracy: 0.206000\n",
      "\n",
      "Cycle 3...\n",
      "Epoch: 0 Loss: 2.300477, Train accuracy: 0.196667, val accuracy: 0.206000\n",
      "Epoch: 1 Loss: 2.297592, Train accuracy: 0.196667, val accuracy: 0.206000\n",
      "Epoch: 2 Loss: 2.295031, Train accuracy: 0.196667, val accuracy: 0.206000\n",
      "Epoch: 3 Loss: 2.290839, Train accuracy: 0.196667, val accuracy: 0.206000\n",
      "Epoch: 4 Loss: 2.295929, Train accuracy: 0.196667, val accuracy: 0.206000\n",
      "Epoch: 5 Loss: 2.288899, Train accuracy: 0.196667, val accuracy: 0.206000\n",
      "Epoch: 6 Loss: 2.289631, Train accuracy: 0.196667, val accuracy: 0.206000\n",
      "Epoch: 7 Loss: 2.286086, Train accuracy: 0.196667, val accuracy: 0.206000\n",
      "Epoch: 8 Loss: 2.301333, Train accuracy: 0.196667, val accuracy: 0.206000\n",
      "Epoch: 9 Loss: 2.280381, Train accuracy: 0.196667, val accuracy: 0.206000\n",
      "\n",
      "Cycle 4...\n",
      "Epoch: 0 Loss: 2.302487, Train accuracy: 0.077111, val accuracy: 0.077000\n",
      "Epoch: 1 Loss: 2.302359, Train accuracy: 0.196556, val accuracy: 0.206000\n",
      "Epoch: 2 Loss: 2.301878, Train accuracy: 0.196667, val accuracy: 0.206000\n",
      "Epoch: 3 Loss: 2.301536, Train accuracy: 0.196667, val accuracy: 0.206000\n",
      "Epoch: 4 Loss: 2.302224, Train accuracy: 0.196667, val accuracy: 0.206000\n",
      "Epoch: 5 Loss: 2.301807, Train accuracy: 0.196667, val accuracy: 0.206000\n",
      "Epoch: 6 Loss: 2.301093, Train accuracy: 0.196667, val accuracy: 0.206000\n",
      "Epoch: 7 Loss: 2.299108, Train accuracy: 0.196667, val accuracy: 0.206000\n",
      "Epoch: 8 Loss: 2.299998, Train accuracy: 0.196667, val accuracy: 0.206000\n",
      "Epoch: 9 Loss: 2.300755, Train accuracy: 0.196667, val accuracy: 0.206000\n",
      "\n",
      "Cycle 5...\n",
      "Epoch: 0 Loss: 2.302839, Train accuracy: 0.196667, val accuracy: 0.206000\n",
      "Epoch: 1 Loss: 2.301674, Train accuracy: 0.196667, val accuracy: 0.206000\n",
      "Epoch: 2 Loss: 2.292929, Train accuracy: 0.196667, val accuracy: 0.206000\n",
      "Epoch: 3 Loss: 2.296803, Train accuracy: 0.196667, val accuracy: 0.206000\n",
      "Epoch: 4 Loss: 2.294389, Train accuracy: 0.196667, val accuracy: 0.206000\n",
      "Epoch: 5 Loss: 2.278783, Train accuracy: 0.196667, val accuracy: 0.206000\n",
      "Epoch: 6 Loss: 2.287261, Train accuracy: 0.196667, val accuracy: 0.206000\n",
      "Epoch: 7 Loss: 2.296712, Train accuracy: 0.196667, val accuracy: 0.206000\n",
      "Epoch: 8 Loss: 2.278422, Train accuracy: 0.196667, val accuracy: 0.206000\n",
      "Epoch: 9 Loss: 2.257055, Train accuracy: 0.196667, val accuracy: 0.206000\n",
      "\n",
      "Cycle 6...\n",
      "Epoch: 0 Loss: 2.169865, Train accuracy: 0.226333, val accuracy: 0.236000\n",
      "Epoch: 1 Loss: 1.709318, Train accuracy: 0.400556, val accuracy: 0.392000\n",
      "Epoch: 2 Loss: 1.419092, Train accuracy: 0.538444, val accuracy: 0.525000\n",
      "Epoch: 3 Loss: 1.118117, Train accuracy: 0.593667, val accuracy: 0.598000\n",
      "Epoch: 4 Loss: 1.076384, Train accuracy: 0.658222, val accuracy: 0.658000\n",
      "Epoch: 5 Loss: 1.206800, Train accuracy: 0.697889, val accuracy: 0.686000\n",
      "Epoch: 6 Loss: 1.110844, Train accuracy: 0.719444, val accuracy: 0.697000\n",
      "Epoch: 7 Loss: 1.158322, Train accuracy: 0.740667, val accuracy: 0.700000\n",
      "Epoch: 8 Loss: 0.814570, Train accuracy: 0.743556, val accuracy: 0.704000\n",
      "Epoch: 9 Loss: 0.900953, Train accuracy: 0.758333, val accuracy: 0.703000\n",
      "\n",
      "Cycle 7...\n",
      "Epoch: 0 Loss: 2.303168, Train accuracy: 0.196667, val accuracy: 0.206000\n",
      "Epoch: 1 Loss: 2.303080, Train accuracy: 0.196667, val accuracy: 0.206000\n",
      "Epoch: 2 Loss: 2.300638, Train accuracy: 0.196667, val accuracy: 0.206000\n",
      "Epoch: 3 Loss: 2.293393, Train accuracy: 0.196667, val accuracy: 0.206000\n",
      "Epoch: 4 Loss: 2.291538, Train accuracy: 0.196667, val accuracy: 0.206000\n",
      "Epoch: 5 Loss: 2.275161, Train accuracy: 0.196667, val accuracy: 0.206000\n",
      "Epoch: 6 Loss: 2.292508, Train accuracy: 0.196667, val accuracy: 0.206000\n",
      "Epoch: 7 Loss: 2.278247, Train accuracy: 0.196667, val accuracy: 0.206000\n",
      "Epoch: 8 Loss: 2.282266, Train accuracy: 0.196667, val accuracy: 0.206000\n",
      "Epoch: 9 Loss: 2.266425, Train accuracy: 0.196667, val accuracy: 0.206000\n",
      "\n",
      "Cycle 8...\n",
      "Epoch: 0 Loss: 2.293111, Train accuracy: 0.196667, val accuracy: 0.206000\n",
      "Epoch: 1 Loss: 2.297933, Train accuracy: 0.196667, val accuracy: 0.206000\n",
      "Epoch: 2 Loss: 2.280013, Train accuracy: 0.196667, val accuracy: 0.206000\n",
      "Epoch: 3 Loss: 2.295904, Train accuracy: 0.196667, val accuracy: 0.206000\n",
      "Epoch: 4 Loss: 2.296581, Train accuracy: 0.196667, val accuracy: 0.206000\n",
      "Epoch: 5 Loss: 2.278914, Train accuracy: 0.196667, val accuracy: 0.206000\n",
      "Epoch: 6 Loss: 2.259075, Train accuracy: 0.196667, val accuracy: 0.206000\n",
      "Epoch: 7 Loss: 2.265950, Train accuracy: 0.196667, val accuracy: 0.206000\n",
      "Epoch: 8 Loss: 2.243464, Train accuracy: 0.196667, val accuracy: 0.206000\n",
      "Epoch: 9 Loss: 2.263319, Train accuracy: 0.196667, val accuracy: 0.206000\n",
      "\n",
      "Cycle 9...\n",
      "Epoch: 0 Loss: 2.178754, Train accuracy: 0.196667, val accuracy: 0.206000\n",
      "Epoch: 1 Loss: 2.251667, Train accuracy: 0.196667, val accuracy: 0.206000\n",
      "Epoch: 2 Loss: 2.019327, Train accuracy: 0.239889, val accuracy: 0.245000\n",
      "Epoch: 3 Loss: 1.891876, Train accuracy: 0.326556, val accuracy: 0.327000\n",
      "Epoch: 4 Loss: 1.940339, Train accuracy: 0.394778, val accuracy: 0.402000\n",
      "Epoch: 5 Loss: 1.429921, Train accuracy: 0.446111, val accuracy: 0.451000\n",
      "Epoch: 6 Loss: 1.499939, Train accuracy: 0.539556, val accuracy: 0.527000\n",
      "Epoch: 7 Loss: 1.069351, Train accuracy: 0.605444, val accuracy: 0.605000\n",
      "Epoch: 8 Loss: 0.887681, Train accuracy: 0.639556, val accuracy: 0.638000\n",
      "Epoch: 9 Loss: 1.388926, Train accuracy: 0.647778, val accuracy: 0.629000\n",
      "\n",
      "Cycle 10...\n",
      "Epoch: 0 Loss: 2.305662, Train accuracy: 0.196667, val accuracy: 0.206000\n",
      "Epoch: 1 Loss: 2.300833, Train accuracy: 0.196667, val accuracy: 0.206000\n",
      "Epoch: 2 Loss: 2.299555, Train accuracy: 0.196667, val accuracy: 0.206000\n",
      "Epoch: 3 Loss: 2.305523, Train accuracy: 0.196667, val accuracy: 0.206000\n",
      "Epoch: 4 Loss: 2.292248, Train accuracy: 0.196667, val accuracy: 0.206000\n",
      "Epoch: 5 Loss: 2.297453, Train accuracy: 0.196667, val accuracy: 0.206000\n",
      "Epoch: 6 Loss: 2.294174, Train accuracy: 0.196667, val accuracy: 0.206000\n",
      "Epoch: 7 Loss: 2.290142, Train accuracy: 0.196667, val accuracy: 0.206000\n",
      "Epoch: 8 Loss: 2.289667, Train accuracy: 0.196667, val accuracy: 0.206000\n",
      "Epoch: 9 Loss: 2.287363, Train accuracy: 0.196667, val accuracy: 0.206000\n",
      "\n",
      "Cycle 11...\n",
      "Epoch: 0 Loss: 2.302347, Train accuracy: 0.116222, val accuracy: 0.146000\n",
      "Epoch: 1 Loss: 2.302279, Train accuracy: 0.196667, val accuracy: 0.206000\n",
      "Epoch: 2 Loss: 2.301100, Train accuracy: 0.196667, val accuracy: 0.206000\n",
      "Epoch: 3 Loss: 2.301227, Train accuracy: 0.196667, val accuracy: 0.206000\n",
      "Epoch: 4 Loss: 2.301584, Train accuracy: 0.196667, val accuracy: 0.206000\n",
      "Epoch: 5 Loss: 2.300648, Train accuracy: 0.196667, val accuracy: 0.206000\n",
      "Epoch: 6 Loss: 2.301217, Train accuracy: 0.196667, val accuracy: 0.206000\n",
      "Epoch: 7 Loss: 2.302299, Train accuracy: 0.196667, val accuracy: 0.206000\n",
      "Epoch: 8 Loss: 2.301979, Train accuracy: 0.196667, val accuracy: 0.206000\n",
      "Epoch: 9 Loss: 2.301165, Train accuracy: 0.196667, val accuracy: 0.206000\n",
      "\n",
      "Cycle 12...\n",
      "Epoch: 0 Loss: 2.300018, Train accuracy: 0.196667, val accuracy: 0.206000\n",
      "Epoch: 1 Loss: 2.295918, Train accuracy: 0.196667, val accuracy: 0.206000\n",
      "Epoch: 2 Loss: 2.295252, Train accuracy: 0.196667, val accuracy: 0.206000\n",
      "Epoch: 3 Loss: 2.297443, Train accuracy: 0.196667, val accuracy: 0.206000\n",
      "Epoch: 4 Loss: 2.290173, Train accuracy: 0.196667, val accuracy: 0.206000\n",
      "Epoch: 5 Loss: 2.275708, Train accuracy: 0.196667, val accuracy: 0.206000\n",
      "Epoch: 6 Loss: 2.280234, Train accuracy: 0.196667, val accuracy: 0.206000\n",
      "Epoch: 7 Loss: 2.290934, Train accuracy: 0.196667, val accuracy: 0.206000\n",
      "Epoch: 8 Loss: 2.286650, Train accuracy: 0.196667, val accuracy: 0.206000\n",
      "Epoch: 9 Loss: 2.278199, Train accuracy: 0.196667, val accuracy: 0.206000\n",
      "\n",
      "Cycle 13...\n",
      "Epoch: 0 Loss: 2.135631, Train accuracy: 0.220000, val accuracy: 0.226000\n",
      "Epoch: 1 Loss: 1.407631, Train accuracy: 0.443778, val accuracy: 0.437000\n",
      "Epoch: 2 Loss: 1.331280, Train accuracy: 0.531556, val accuracy: 0.524000\n",
      "Epoch: 3 Loss: 1.106146, Train accuracy: 0.669778, val accuracy: 0.652000\n",
      "Epoch: 4 Loss: 0.961524, Train accuracy: 0.674444, val accuracy: 0.656000\n",
      "Epoch: 5 Loss: 1.082252, Train accuracy: 0.699222, val accuracy: 0.671000\n",
      "Epoch: 6 Loss: 0.896738, Train accuracy: 0.723889, val accuracy: 0.674000\n",
      "Epoch: 7 Loss: 1.115745, Train accuracy: 0.742111, val accuracy: 0.696000\n",
      "Epoch: 8 Loss: 0.850765, Train accuracy: 0.765000, val accuracy: 0.705000\n",
      "Epoch: 9 Loss: 0.744149, Train accuracy: 0.789556, val accuracy: 0.726000\n",
      "\n",
      "Cycle 14...\n",
      "Epoch: 0 Loss: 2.298478, Train accuracy: 0.196667, val accuracy: 0.206000\n",
      "Epoch: 1 Loss: 2.291778, Train accuracy: 0.196667, val accuracy: 0.206000\n",
      "Epoch: 2 Loss: 2.299252, Train accuracy: 0.196667, val accuracy: 0.206000\n",
      "Epoch: 3 Loss: 2.285058, Train accuracy: 0.196667, val accuracy: 0.206000\n",
      "Epoch: 4 Loss: 2.284185, Train accuracy: 0.196667, val accuracy: 0.206000\n",
      "Epoch: 5 Loss: 2.289045, Train accuracy: 0.196667, val accuracy: 0.206000\n",
      "Epoch: 6 Loss: 2.284688, Train accuracy: 0.196667, val accuracy: 0.206000\n",
      "Epoch: 7 Loss: 2.285087, Train accuracy: 0.196667, val accuracy: 0.206000\n",
      "Epoch: 8 Loss: 2.278132, Train accuracy: 0.196667, val accuracy: 0.206000\n",
      "Epoch: 9 Loss: 2.285850, Train accuracy: 0.196667, val accuracy: 0.206000\n",
      "\n",
      "Cycle 15...\n",
      "Epoch: 0 Loss: 2.110322, Train accuracy: 0.196667, val accuracy: 0.206000\n",
      "Epoch: 1 Loss: 1.959173, Train accuracy: 0.316222, val accuracy: 0.311000\n",
      "Epoch: 2 Loss: 1.815624, Train accuracy: 0.394556, val accuracy: 0.377000\n",
      "Epoch: 3 Loss: 1.792913, Train accuracy: 0.452000, val accuracy: 0.452000\n",
      "Epoch: 4 Loss: 1.962102, Train accuracy: 0.542556, val accuracy: 0.541000\n",
      "Epoch: 5 Loss: 1.986177, Train accuracy: 0.533556, val accuracy: 0.522000\n",
      "Epoch: 6 Loss: 2.020364, Train accuracy: 0.504000, val accuracy: 0.515000\n",
      "Epoch: 7 Loss: 2.006308, Train accuracy: 0.540889, val accuracy: 0.540000\n",
      "Epoch: 8 Loss: 1.873285, Train accuracy: 0.527444, val accuracy: 0.546000\n",
      "Epoch: 9 Loss: 1.640822, Train accuracy: 0.584556, val accuracy: 0.591000\n"
     ]
    }
   ],
   "source": [
    "# Let's train the best one-hidden-layer network we can\n",
    "from random import choice\n",
    "\n",
    "n_iterations = 15\n",
    "num_epochs = 10\n",
    "learning_rates = [1e-4, 1e-3, 1e-2, 1e-1]\n",
    "reg_strength = [1e-6, 1e-4, 1e-2]\n",
    "learning_rate_decay = [0.888, 0.995, 0.999]\n",
    "hidden_layer_size = [64, 128, 256]\n",
    "batch_size = [64]\n",
    "momentums = [0.1, 0.3, 0.5, 0.7, 0.9]\n",
    "\n",
    "best_classifier = None\n",
    "best_val_accuracy = 0\n",
    "best_params = {}\n",
    "\n",
    "loss_history = []\n",
    "train_history = []\n",
    "val_history = []\n",
    "\n",
    "# TODO find the best hyperparameters to train the network\n",
    "# Don't hesitate to add new values to the arrays above, perform experiments, use any tricks you want\n",
    "# You should expect to get to at least 40% of valudation accuracy\n",
    "# Save loss/train/history of the best classifier to the variables above\n",
    "for i in range(0, n_iterations):\n",
    "    lr = choice(learning_rates)\n",
    "    reg = choice(reg_strength)\n",
    "    lrd = choice(learning_rate_decay)\n",
    "    hs = choice(hidden_layer_size)\n",
    "    bs = choice(batch_size)\n",
    "    momentum = choice(momentums)\n",
    "\n",
    "    model = TwoLayerNet(n_input=train_X.shape[1], n_output=10,\n",
    "                        hidden_layer_size=hs, reg=reg)\n",
    "    dataset = Dataset(train_X, train_y, val_X, val_y)\n",
    "    trainer = Trainer(model, dataset, MomentumSGD(momentum=momentum), learning_rate=lr,\n",
    "                      learning_rate_decay=lrd, num_epochs=num_epochs, batch_size=bs)\n",
    "\n",
    "    print()\n",
    "    print (\"Cycle {}...\".format(i+1))\n",
    "    loss_hist, train_hist, val_hist = trainer.fit()\n",
    "\n",
    "    if val_hist[-1] > best_val_accuracy:\n",
    "        best_val_accuracy = val_hist[-1]\n",
    "        best_classifier = model\n",
    "\n",
    "        best_params['learning_rate'] = lr\n",
    "        best_params['reg_strength'] = reg\n",
    "        best_params['learning_rate_decay'] = lrd\n",
    "        best_params['hidden_layer_size'] = hs\n",
    "        best_params['batch_size'] = bs\n",
    "        best_params['momentum'] = momentum\n",
    "\n",
    "        loss_history = loss_hist\n",
    "        train_history = train_hist\n",
    "        val_history = val_hist"
   ]
  },
  {
   "cell_type": "code",
   "execution_count": 60,
   "outputs": [
    {
     "name": "stdout",
     "output_type": "stream",
     "text": [
      "Best params: {'learning_rate': 0.1, 'reg_strength': 0.0001, 'learning_rate_decay': 0.999, 'hidden_layer_size': 256, 'batch_size': 64, 'momentum': 0.7}\n",
      "best validation accuracy achieved: 0.726000\n"
     ]
    }
   ],
   "source": [
    "print('Best params:', best_params)\n",
    "print('best validation accuracy achieved: %f' % best_val_accuracy)"
   ],
   "metadata": {
    "collapsed": false,
    "pycharm": {
     "name": "#%%\n"
    }
   }
  },
  {
   "cell_type": "code",
   "execution_count": 61,
   "metadata": {},
   "outputs": [
    {
     "data": {
      "text/plain": "<Figure size 504x504 with 2 Axes>",
      "image/png": "[encoded data removed]"
     },
     "metadata": {
      "needs_background": "light"
     },
     "output_type": "display_data"
    }
   ],
   "source": [
    "plt.figure(figsize=(7, 7))\n",
    "plt.subplot(211)\n",
    "plt.title(\"Loss\")\n",
    "plt.plot(loss_history)\n",
    "plt.subplot(212)\n",
    "plt.title(\"Train/validation accuracy\")\n",
    "plt.plot(train_history)\n",
    "plt.plot(val_history);"
   ]
  },
  {
   "cell_type": "markdown",
   "metadata": {},
   "source": [
    "# Как обычно, посмотрим, как наша лучшая модель работает на тестовых данных"
   ]
  },
  {
   "cell_type": "code",
   "execution_count": 62,
   "metadata": {},
   "outputs": [
    {
     "name": "stdout",
     "output_type": "stream",
     "text": [
      "Neural net test set accuracy: 0.662000\n"
     ]
    }
   ],
   "source": [
    "test_pred = best_classifier.predict(test_X)\n",
    "test_accuracy = multiclass_accuracy(test_pred, test_y)\n",
    "print('Neural net test set accuracy: %f' % (test_accuracy, ))"
   ]
  }
 ],
 "metadata": {
  "kernelspec": {
   "display_name": "Python 3",
   "language": "python",
   "name": "python3"
  },
  "language_info": {
   "codemirror_mode": {
    "name": "ipython",
    "version": 3
   },
   "file_extension": ".py",
   "mimetype": "text/x-python",
   "name": "python",
   "nbconvert_exporter": "python",
   "pygments_lexer": "ipython3",
   "version": "3.7.0"
  }
 },
 "nbformat": 4,
 "nbformat_minor": 2
}